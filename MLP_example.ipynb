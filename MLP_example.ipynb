{
 "cells": [
  {
   "cell_type": "code",
   "execution_count": 1,
   "id": "52bad454-46b8-488c-81b5-87525d21a1a8",
   "metadata": {},
   "outputs": [],
   "source": [
    "import torch\n",
    "import torch.nn as nn\n",
    "from torch.utils.data import TensorDataset\n",
    "from torch.utils.data import DataLoader"
   ]
  },
  {
   "cell_type": "code",
   "execution_count": 2,
   "id": "996ec4fd-99b0-48e9-9858-e663c03550a5",
   "metadata": {},
   "outputs": [],
   "source": [
    "import numpy as np\n",
    "import matplotlib.pyplot as plt"
   ]
  },
  {
   "cell_type": "code",
   "execution_count": 3,
   "id": "db788afa-95db-43f9-8ccc-9e3acb39c026",
   "metadata": {},
   "outputs": [],
   "source": [
    "import copy"
   ]
  },
  {
   "cell_type": "code",
   "execution_count": 4,
   "id": "73a03288-968d-489f-aea8-f7effdb6bd34",
   "metadata": {},
   "outputs": [],
   "source": [
    "device = torch.device('cuda' if torch.cuda.is_available() else 'cpu')"
   ]
  },
  {
   "cell_type": "code",
   "execution_count": 5,
   "id": "bbd9ee95-f7c8-4adf-968e-b39ba740b6a2",
   "metadata": {},
   "outputs": [],
   "source": [
    "class LinearBlock(nn.Module):\n",
    "    def __init__(self,in_dim,out_dim,dropout):\n",
    "        super().__init__()\n",
    "        self.fc = nn.Linear(in_dim,out_dim)\n",
    "        self.bn = nn.BatchNorm1d(out_dim)\n",
    "        self.ac = nn.SELU()\n",
    "        self.dp = nn.Dropout(p=dropout)\n",
    "        \n",
    "    def forward(self,x):\n",
    "        x = self.fc(x)\n",
    "        x = self.bn(x)\n",
    "        x = self.ac(x)\n",
    "        x = self.dp(x)\n",
    "        \n",
    "        return x"
   ]
  },
  {
   "cell_type": "code",
   "execution_count": 6,
   "id": "fbeabea5-9a3a-4b76-be0b-f5f0eb9deae2",
   "metadata": {},
   "outputs": [],
   "source": [
    "class MLP(nn.Module):\n",
    "    def __init__(self,in_dim, h_dims, out_dim, dropout):\n",
    "        super().__init__()\n",
    "        dims = [in_dim] + list(h_dims)\n",
    "        layers = []\n",
    "        for i in range(len(h_dims)):\n",
    "            layers.append(LinearBlock(dims[i],dims[i+1],dropout))\n",
    "        \n",
    "        self.layers = nn.Sequential(*layers)\n",
    "        \n",
    "        self.outfc = nn.Linear(h_dims[-1],out_dim)\n",
    "        \n",
    "    def forward(self,x):\n",
    "        x = self.layers(x)\n",
    "        return self.outfc(x)"
   ]
  },
  {
   "cell_type": "code",
   "execution_count": 7,
   "id": "0ca0ebe9-9f14-4935-9051-97bf38616d08",
   "metadata": {},
   "outputs": [],
   "source": [
    "def train_val_test_split(X, y, train_size, val_size, random_seed=2022):\n",
    "    assert X.shape[0] == y.shape[0]\n",
    "    inds = np.arange(X.shape[0])\n",
    "    \n",
    "    np.random.seed(random_seed)\n",
    "    np.random.shuffle(inds)\n",
    "    \n",
    "    spl1 = int(train_size*X.shape[0])\n",
    "    spl2 = int(val_size*X.shape[0])\n",
    "    \n",
    "    train_inds = inds[:spl1]\n",
    "    val_inds   = inds[spl1:spl1+spl2]\n",
    "    test_inds  = inds[spl1+spl2:]\n",
    "    \n",
    "    X_train, y_train = X[train_inds,:], y[train_inds,:]\n",
    "    X_val,   y_val   = X[val_inds,:],   y[val_inds,:]\n",
    "    X_test, y_test = X[test_inds,:], y[test_inds,:]\n",
    "    \n",
    "    train_tds = TensorDataset(torch.Tensor(X_train), torch.Tensor(y_train))\n",
    "    val_tds   = TensorDataset(torch.Tensor(X_val),   torch.Tensor(y_val))\n",
    "    test_tds  = TensorDataset(torch.Tensor(X_test),  torch.Tensor(y_test))\n",
    "    \n",
    "    return train_tds,val_tds,test_tds"
   ]
  },
  {
   "cell_type": "code",
   "execution_count": null,
   "id": "81dd2f62-5b46-4ee3-a513-2bcb2fc6045a",
   "metadata": {},
   "outputs": [],
   "source": []
  },
  {
   "cell_type": "markdown",
   "id": "c7544bbb-a09b-4868-94c8-e274433d1c97",
   "metadata": {},
   "source": [
    "### Create dataloaders"
   ]
  },
  {
   "cell_type": "code",
   "execution_count": 8,
   "id": "360e48b9-0bca-4af3-8d99-d45c06733722",
   "metadata": {},
   "outputs": [],
   "source": [
    "n_samples = 100\n",
    "n_features = 30\n",
    "n_out_dim = 10"
   ]
  },
  {
   "cell_type": "code",
   "execution_count": 9,
   "id": "05c900c6-d7d6-46c7-b891-8113abb29acf",
   "metadata": {},
   "outputs": [],
   "source": [
    "X = np.random.randn(n_samples,n_features)"
   ]
  },
  {
   "cell_type": "code",
   "execution_count": 10,
   "id": "43089391-1cab-4c7e-b7dd-182476bdd60e",
   "metadata": {},
   "outputs": [
    {
     "data": {
      "text/plain": [
       "(100, 30)"
      ]
     },
     "execution_count": 10,
     "metadata": {},
     "output_type": "execute_result"
    }
   ],
   "source": [
    "X.shape"
   ]
  },
  {
   "cell_type": "code",
   "execution_count": 11,
   "id": "8a8ce0cb-8c8f-45d0-9d32-26372add5ac9",
   "metadata": {},
   "outputs": [],
   "source": [
    "Y = nn.Linear(n_features,n_out_dim)(torch.Tensor(X)).detach().numpy()"
   ]
  },
  {
   "cell_type": "code",
   "execution_count": 12,
   "id": "d4e20743-647f-4fa0-bc3b-f7eee4a60bd6",
   "metadata": {},
   "outputs": [
    {
     "data": {
      "text/plain": [
       "(100, 10)"
      ]
     },
     "execution_count": 12,
     "metadata": {},
     "output_type": "execute_result"
    }
   ],
   "source": [
    "Y.shape"
   ]
  },
  {
   "cell_type": "code",
   "execution_count": 13,
   "id": "54362729-6373-4c41-87e6-94eba64b34f4",
   "metadata": {},
   "outputs": [],
   "source": [
    "train_tds,val_tds,test_tds = train_val_test_split(X, Y, 0.7, 0.15, random_seed=2022)"
   ]
  },
  {
   "cell_type": "code",
   "execution_count": 14,
   "id": "385d596a-98e7-436b-82cf-cc79fa11d8f7",
   "metadata": {},
   "outputs": [
    {
     "data": {
      "text/plain": [
       "(70, 15, 15)"
      ]
     },
     "execution_count": 14,
     "metadata": {},
     "output_type": "execute_result"
    }
   ],
   "source": [
    "len(train_tds), len(val_tds), len(test_tds)"
   ]
  },
  {
   "cell_type": "code",
   "execution_count": 15,
   "id": "35c06d5a-2e60-4074-aa97-5ecd7dba4f3e",
   "metadata": {},
   "outputs": [],
   "source": [
    "train_loader = DataLoader(train_tds, batch_size=32, shuffle=True)\n",
    "val_loader = DataLoader(val_tds,batch_size=32, shuffle=True)"
   ]
  },
  {
   "cell_type": "code",
   "execution_count": 16,
   "id": "d4dfaad1-eb4b-4ae3-bd9e-0233a81c8114",
   "metadata": {},
   "outputs": [],
   "source": [
    "X_test, y_test = test_tds.tensors"
   ]
  },
  {
   "cell_type": "markdown",
   "id": "1e4185f1-5107-4825-a71f-73390d3f1bc0",
   "metadata": {},
   "source": [
    "### Create model"
   ]
  },
  {
   "cell_type": "code",
   "execution_count": 17,
   "id": "514d44a9-f9cc-4ea9-82cb-4d860ee32eca",
   "metadata": {},
   "outputs": [],
   "source": [
    "h_dims = [20,20] # two hidden layers, with 20 nodes each"
   ]
  },
  {
   "cell_type": "code",
   "execution_count": 18,
   "id": "6be36b9d-940d-4038-b651-d158f1291a23",
   "metadata": {},
   "outputs": [],
   "source": [
    "model = MLP(n_features, h_dims, n_out_dim,dropout=0.1)"
   ]
  },
  {
   "cell_type": "code",
   "execution_count": 19,
   "id": "0890db31-2f7f-4206-a96c-65acee13a208",
   "metadata": {},
   "outputs": [
    {
     "data": {
      "text/plain": [
       "MLP(\n",
       "  (layers): Sequential(\n",
       "    (0): LinearBlock(\n",
       "      (fc): Linear(in_features=30, out_features=20, bias=True)\n",
       "      (bn): BatchNorm1d(20, eps=1e-05, momentum=0.1, affine=True, track_running_stats=True)\n",
       "      (ac): SELU()\n",
       "      (dp): Dropout(p=0.1, inplace=False)\n",
       "    )\n",
       "    (1): LinearBlock(\n",
       "      (fc): Linear(in_features=20, out_features=20, bias=True)\n",
       "      (bn): BatchNorm1d(20, eps=1e-05, momentum=0.1, affine=True, track_running_stats=True)\n",
       "      (ac): SELU()\n",
       "      (dp): Dropout(p=0.1, inplace=False)\n",
       "    )\n",
       "  )\n",
       "  (outfc): Linear(in_features=20, out_features=10, bias=True)\n",
       ")"
      ]
     },
     "execution_count": 19,
     "metadata": {},
     "output_type": "execute_result"
    }
   ],
   "source": [
    "model"
   ]
  },
  {
   "cell_type": "code",
   "execution_count": 20,
   "id": "ba1e437e-d43b-4efc-9c2c-d96d11ebb09f",
   "metadata": {},
   "outputs": [
    {
     "data": {
      "text/plain": [
       "MLP(\n",
       "  (layers): Sequential(\n",
       "    (0): LinearBlock(\n",
       "      (fc): Linear(in_features=30, out_features=20, bias=True)\n",
       "      (bn): BatchNorm1d(20, eps=1e-05, momentum=0.1, affine=True, track_running_stats=True)\n",
       "      (ac): SELU()\n",
       "      (dp): Dropout(p=0.1, inplace=False)\n",
       "    )\n",
       "    (1): LinearBlock(\n",
       "      (fc): Linear(in_features=20, out_features=20, bias=True)\n",
       "      (bn): BatchNorm1d(20, eps=1e-05, momentum=0.1, affine=True, track_running_stats=True)\n",
       "      (ac): SELU()\n",
       "      (dp): Dropout(p=0.1, inplace=False)\n",
       "    )\n",
       "  )\n",
       "  (outfc): Linear(in_features=20, out_features=10, bias=True)\n",
       ")"
      ]
     },
     "execution_count": 20,
     "metadata": {},
     "output_type": "execute_result"
    }
   ],
   "source": [
    "# load model to device\n",
    "if device.type == 'cuda' and torch.cuda.device_count()>1:\n",
    "    model = torch.nn.DataParallel(model)\n",
    "model.to(device)"
   ]
  },
  {
   "cell_type": "markdown",
   "id": "92dca555-9929-4bf0-9abf-0436d3e0eeb9",
   "metadata": {},
   "source": [
    "### Train model with early stop"
   ]
  },
  {
   "cell_type": "code",
   "execution_count": 21,
   "id": "33984b96-27a0-488b-a242-77cb7debcbf6",
   "metadata": {},
   "outputs": [],
   "source": [
    "lr = 0.001\n",
    "max_epochs = 1000"
   ]
  },
  {
   "cell_type": "code",
   "execution_count": 22,
   "id": "74414e72-b379-40f0-bd50-16bc2af58fec",
   "metadata": {},
   "outputs": [],
   "source": [
    "train_loss = []\n",
    "val_loss = []"
   ]
  },
  {
   "cell_type": "code",
   "execution_count": null,
   "id": "e8dfd1ca-1792-4b25-a0cd-71b1cb93a45a",
   "metadata": {},
   "outputs": [],
   "source": []
  },
  {
   "cell_type": "code",
   "execution_count": 23,
   "id": "b1efe221-51da-40ae-bf93-926d209889de",
   "metadata": {},
   "outputs": [],
   "source": [
    "optimizer = torch.optim.Adam(model.parameters(), lr=lr)\n",
    "loss_fn = torch.nn.MSELoss()"
   ]
  },
  {
   "cell_type": "code",
   "execution_count": 24,
   "id": "69c3780d-5aeb-4f3d-a8b1-5aab94104fdf",
   "metadata": {},
   "outputs": [],
   "source": [
    "best_val_loss = np.inf\n",
    "patience = 10\n",
    "early_stop = False"
   ]
  },
  {
   "cell_type": "code",
   "execution_count": 25,
   "id": "8d329cdb-8a5c-4912-9f71-469f9da9ded2",
   "metadata": {},
   "outputs": [],
   "source": [
    "for epoch in range(max_epochs):\n",
    "    if early_stop: break\n",
    "    model.train()\n",
    "    \n",
    "    epoch_train_loss = []\n",
    "    \n",
    "    for x, y in train_loader:\n",
    "        x = x.to(device)\n",
    "        y = y.to(device)\n",
    "        \n",
    "        loss = loss_fn(model(x),y)\n",
    "        loss.backward()\n",
    "        optimizer.step()\n",
    "        \n",
    "        epoch_train_loss.append(loss.detach().item())\n",
    "    \n",
    "    train_loss.append(np.mean(epoch_train_loss))\n",
    "    \n",
    "    # validation\n",
    "    epoch_val_loss = []\n",
    "    with torch.no_grad():\n",
    "        model.eval()\n",
    "        for x, y in val_loader:\n",
    "            x = x.to(device)\n",
    "            y = y.to(device)\n",
    "            \n",
    "            loss = loss_fn(model(x),y)\n",
    "            epoch_val_loss.append(loss.detach().item())\n",
    "    \n",
    "    val_loss.append(np.mean(epoch_val_loss))\n",
    "\n",
    "    # check if to early stop training\n",
    "    if np.mean(epoch_val_loss) < best_val_loss:\n",
    "        best_val_loss = np.mean(epoch_val_loss)\n",
    "        best_model_state =  copy.deepcopy(model.state_dict())\n",
    "        waited_epochs = 0\n",
    "        \n",
    "    else:\n",
    "        waited_epochs += 1\n",
    "        if waited_epochs > patience: early_stop = True"
   ]
  },
  {
   "cell_type": "code",
   "execution_count": 26,
   "id": "58ae3544",
   "metadata": {},
   "outputs": [
    {
     "data": {
      "text/plain": [
       "MLP(\n",
       "  (layers): Sequential(\n",
       "    (0): LinearBlock(\n",
       "      (fc): Linear(in_features=30, out_features=20, bias=True)\n",
       "      (bn): BatchNorm1d(20, eps=1e-05, momentum=0.1, affine=True, track_running_stats=True)\n",
       "      (ac): SELU()\n",
       "      (dp): Dropout(p=0.1, inplace=False)\n",
       "    )\n",
       "    (1): LinearBlock(\n",
       "      (fc): Linear(in_features=20, out_features=20, bias=True)\n",
       "      (bn): BatchNorm1d(20, eps=1e-05, momentum=0.1, affine=True, track_running_stats=True)\n",
       "      (ac): SELU()\n",
       "      (dp): Dropout(p=0.1, inplace=False)\n",
       "    )\n",
       "  )\n",
       "  (outfc): Linear(in_features=20, out_features=10, bias=True)\n",
       ")"
      ]
     },
     "execution_count": 26,
     "metadata": {},
     "output_type": "execute_result"
    }
   ],
   "source": [
    "# load best model parameters\n",
    "model.load_state_dict(best_model_state)\n",
    "model.eval()"
   ]
  },
  {
   "cell_type": "code",
   "execution_count": 27,
   "id": "250b13c0-bc28-49f2-87d6-b290f1d67499",
   "metadata": {},
   "outputs": [
    {
     "data": {
      "image/png": "[encoded data removed]",
      "text/plain": [
       "<Figure size 432x288 with 1 Axes>"
      ]
     },
     "metadata": {
      "needs_background": "light"
     },
     "output_type": "display_data"
    }
   ],
   "source": [
    "plt.scatter(np.arange(len(train_loss)),train_loss, label='train')\n",
    "plt.scatter(np.arange(len(val_loss)),val_loss,label='val')\n",
    "plt.legend()\n",
    "plt.xlabel('epochs')\n",
    "plt.ylabel('loss')\n",
    "plt.show()"
   ]
  },
  {
   "cell_type": "code",
   "execution_count": 28,
   "id": "a23ad76d-900a-4042-82c3-56f2b696b224",
   "metadata": {},
   "outputs": [],
   "source": [
    "X_test = X_test.to(device)\n",
    "y_test = y_test.to(device)"
   ]
  },
  {
   "cell_type": "code",
   "execution_count": 29,
   "id": "8b3df1a1-e315-4f58-b2e3-99a45fc3e9f3",
   "metadata": {},
   "outputs": [],
   "source": [
    "test_loss = loss_fn(model(X_test),y_test)"
   ]
  },
  {
   "cell_type": "code",
   "execution_count": 30,
   "id": "b3f4f2e6-1ec4-4ebd-8535-2c27e711df35",
   "metadata": {},
   "outputs": [
    {
     "data": {
      "text/plain": [
       "tensor(0.1464, grad_fn=<MseLossBackward>)"
      ]
     },
     "execution_count": 30,
     "metadata": {},
     "output_type": "execute_result"
    }
   ],
   "source": [
    "test_loss"
   ]
  },
  {
   "cell_type": "code",
   "execution_count": null,
   "id": "0e4bac11",
   "metadata": {},
   "outputs": [],
   "source": []
  }
 ],
 "metadata": {
  "kernelspec": {
   "display_name": "torch",
   "language": "python",
   "name": "torch"
  },
  "language_info": {
   "codemirror_mode": {
    "name": "ipython",
    "version": 3
   },
   "file_extension": ".py",
   "mimetype": "text/x-python",
   "name": "python",
   "nbconvert_exporter": "python",
   "pygments_lexer": "ipython3",
   "version": "3.8.8"
  }
 },
 "nbformat": 4,
 "nbformat_minor": 5
}
